{
 "cells": [
  {
   "cell_type": "code",
   "execution_count": null,
   "id": "1dd08468-66b3-458a-abcd-97e3f4768299",
   "metadata": {},
   "outputs": [],
   "source": [
    "import pandas as pd\n",
    "import matplotlib.pyplot as plt\n",
    "import seaborn as sns\n",
    "import numpy as np\n",
    "import missingno\n",
    "#from sklearn.model_selection import train_test_split\n",
    "#from sklearn import decomposition\n",
    "#from sklearn import datasets\n",
    "#from sklearn.cluster import KMeans\n",
    "#from sklearn.preprocessing import MinMaxScaler\n",
    "#import statsmodels.api as sm"
   ]
  },
  {
   "cell_type": "markdown",
   "id": "2ffd74bc-f315-44a6-bbbc-73b1428df495",
   "metadata": {},
   "source": [
    "HAHA, das ist ein Test"
   ]
  },
  {
   "cell_type": "markdown",
   "id": "79662da3-420b-42c2-b431-bd9240e88074",
   "metadata": {},
   "source": [
    "# A2 Skript- und Datenvorbereitung (10%)"
   ]
  },
  {
   "cell_type": "markdown",
   "id": "6e4244ae-9ea8-41b9-8b18-6a9453683a09",
   "metadata": {},
   "source": [
    "## 2.1 Einbindung der grundlegenden Python-Bibliotheken"
   ]
  },
  {
   "cell_type": "code",
   "execution_count": null,
   "id": "20ef0dcd-87e8-4d9d-bce3-0876cc1feb84",
   "metadata": {},
   "outputs": [],
   "source": []
  },
  {
   "cell_type": "markdown",
   "id": "ed8a1416-b58f-4cc4-b934-d6e9ecfc0634",
   "metadata": {},
   "source": [
    "## 2.2 Datensatz einlesen und Überblick verschaffen (Größe, Attribute, Datentypen, etc.)"
   ]
  },
  {
   "cell_type": "code",
   "execution_count": null,
   "id": "afb9be32-e8b7-48fa-b96c-08fff916f5c0",
   "metadata": {},
   "outputs": [],
   "source": []
  },
  {
   "cell_type": "markdown",
   "id": "c02807be-e1c4-4e3c-8d00-2fd03c2217a4",
   "metadata": {},
   "source": [
    "## 2.3Metadaten-Informationen zusammenstellen (Quelle, Zweck der Erhebung, etc.)"
   ]
  },
  {
   "cell_type": "code",
   "execution_count": null,
   "id": "f6917f4b-be32-43f3-8cbb-9fd8a743296a",
   "metadata": {},
   "outputs": [],
   "source": []
  },
  {
   "cell_type": "markdown",
   "id": "f57000a4-573f-4886-ae19-d150b45c2ba5",
   "metadata": {},
   "source": [
    "## 2.4 Datenqualität beurteilen (fehlende Daten, Redundanz, etc.)"
   ]
  },
  {
   "cell_type": "code",
   "execution_count": null,
   "id": "d816a679-d598-4b34-b159-f8d044fd93ed",
   "metadata": {},
   "outputs": [],
   "source": []
  },
  {
   "cell_type": "markdown",
   "id": "7d59e3a1-7437-4faa-a695-d60f75dd1588",
   "metadata": {},
   "source": [
    "## 2.5 Bereinigung des Datensatzes (Filtern, Schreibfehler, Inkonsistenzen, Zusammenfassung von Attributen,"
   ]
  },
  {
   "cell_type": "code",
   "execution_count": null,
   "id": "9f594ecf-6594-436b-a030-e53e794c175c",
   "metadata": {},
   "outputs": [],
   "source": []
  },
  {
   "cell_type": "markdown",
   "id": "fe63d25c-b0fa-452a-bfc8-905322d65eb9",
   "metadata": {},
   "source": [
    "## 2.6 Umwandlung von Datentypen, etc.)"
   ]
  },
  {
   "cell_type": "code",
   "execution_count": null,
   "id": "af3d6d65-a75e-4cac-bac5-f4ca88e0da38",
   "metadata": {},
   "outputs": [],
   "source": []
  },
  {
   "cell_type": "markdown",
   "id": "385f5529-4085-47df-9ce0-6d5e2d1862b3",
   "metadata": {},
   "source": [
    "## 2.7 Festlegung der abhängigen Zielvariable inklusive der Formulierung der Fragestellung"
   ]
  },
  {
   "cell_type": "code",
   "execution_count": null,
   "id": "f421a8ee-a43b-4133-9a7c-d7df0e3a178a",
   "metadata": {},
   "outputs": [],
   "source": []
  },
  {
   "cell_type": "markdown",
   "id": "8c6265c2-5000-4691-ba83-7f3cacec5f4b",
   "metadata": {},
   "source": [
    "# A3 EDA (20%)"
   ]
  },
  {
   "cell_type": "markdown",
   "id": "792ad017-326b-483c-ac32-b96e9a4aeeec",
   "metadata": {},
   "source": [
    "## 3.1 univariate Analyse (z.B. statistische Kennzahlen, Verteilung der numerischen Daten, Verteilung in den kategorialen Variablen)\n",
    "\n"
   ]
  },
  {
   "cell_type": "code",
   "execution_count": null,
   "id": "85e72390-796a-48f0-a14a-f5c18334d02f",
   "metadata": {},
   "outputs": [],
   "source": []
  },
  {
   "cell_type": "markdown",
   "id": "148bf4d6-8e90-483c-a5d9-7f3013d36117",
   "metadata": {},
   "source": [
    "## 3.2 bi- und multivariate Analyse (z.B. Zusammenhänge zwischen den Variablen)"
   ]
  },
  {
   "cell_type": "code",
   "execution_count": null,
   "id": "6f7d3f1b-43ab-401f-934f-567f828c09f5",
   "metadata": {},
   "outputs": [],
   "source": []
  },
  {
   "cell_type": "markdown",
   "id": "0570127c-4550-4403-892f-1f32aec2994f",
   "metadata": {},
   "source": [
    "## 3.3 Ist auf der Basis der Analysen eine weitere Datenbereinigung notwendig? Dokumentieren Sie das, falls zutreffend!"
   ]
  },
  {
   "cell_type": "code",
   "execution_count": null,
   "id": "433f3bed-d605-48f9-b826-53aa7dcefb0b",
   "metadata": {},
   "outputs": [],
   "source": []
  },
  {
   "cell_type": "markdown",
   "id": "558ba1f0-06f2-4954-a108-4c095da3ff64",
   "metadata": {},
   "source": [
    "# A4 Modellierung (40%, Bonuspunkte möglich)"
   ]
  },
  {
   "cell_type": "markdown",
   "id": "1f25f40d-ac3f-4d95-b55a-4ff20bb313a7",
   "metadata": {},
   "source": [
    "## 4.1 Dokumentieren Sie, welches Modell gewählt wurde und warum!"
   ]
  },
  {
   "cell_type": "code",
   "execution_count": null,
   "id": "a211bc17-90ba-4a96-b286-a8921f1b81d8",
   "metadata": {},
   "outputs": [],
   "source": []
  },
  {
   "cell_type": "markdown",
   "id": "e0ccfce9-989a-4467-9536-734e04e16c60",
   "metadata": {},
   "source": [
    "## 4.2 Teilen Sie den Datensatz in Trainings- und Testdaten!"
   ]
  },
  {
   "cell_type": "code",
   "execution_count": null,
   "id": "27a2b4a3-d957-40e8-80c2-3829570647d7",
   "metadata": {},
   "outputs": [],
   "source": []
  },
  {
   "cell_type": "markdown",
   "id": "a97425e3-c175-4a38-8676-2445b5698857",
   "metadata": {},
   "source": [
    "## 4.3 Entwickeln Sie entsprechend des gewählten Ansatzes ein Modell anhand der Trainingsdaten und evaluieren Sie das gefundene Modell!"
   ]
  },
  {
   "cell_type": "code",
   "execution_count": null,
   "id": "db60058b-dc68-46e2-bab9-3d0f5febc2c3",
   "metadata": {},
   "outputs": [],
   "source": []
  },
  {
   "cell_type": "markdown",
   "id": "23d03047-be84-41e4-b387-7cbc39d45296",
   "metadata": {},
   "source": [
    "## 4.4 Wenden Sie das Modell auf die Testdaten an und bewerten Sie das Modell-Ergebnis mittels geeigneter Metriken!"
   ]
  },
  {
   "cell_type": "code",
   "execution_count": null,
   "id": "f0e84f93-7b53-430a-a82e-5f85decbc76a",
   "metadata": {},
   "outputs": [],
   "source": []
  },
  {
   "cell_type": "markdown",
   "id": "7efc1767-60d1-4f06-aaab-6431163094da",
   "metadata": {},
   "source": [
    "## 4.5 Fassen Sie das Modellergebnis kurz zusammen!"
   ]
  },
  {
   "cell_type": "code",
   "execution_count": null,
   "id": "843c8476-ac46-4779-8918-1a73daef30c2",
   "metadata": {},
   "outputs": [],
   "source": []
  },
  {
   "cell_type": "markdown",
   "id": "bb8c0639-0f39-4eef-b3d4-da2cabeed20e",
   "metadata": {},
   "source": [
    "## 4.6 Bewerten Sie die Eigenschaften Ihres Modells hinsichtlich der Fähigkeit zur Generalisierung! Gibt es Hinweise auf Over- oder Underfitting?"
   ]
  },
  {
   "cell_type": "code",
   "execution_count": null,
   "id": "8ab105a9-dee3-4222-b095-1d822971f12d",
   "metadata": {},
   "outputs": [],
   "source": []
  },
  {
   "cell_type": "markdown",
   "id": "2a4e80d8-746e-4bb0-9750-836e12407f65",
   "metadata": {},
   "source": [
    "# A5 Visualisierung (20%, Bonuspunkte möglich)"
   ]
  },
  {
   "cell_type": "code",
   "execution_count": null,
   "id": "e345b32e-a07d-440e-9d12-5387efa48e8e",
   "metadata": {},
   "outputs": [],
   "source": []
  },
  {
   "cell_type": "markdown",
   "id": "91b1e292-fab9-4183-bdcd-afa98c62877d",
   "metadata": {},
   "source": [
    "# A6 Zusammenfassung und verwendete Quellen (10%)"
   ]
  },
  {
   "cell_type": "markdown",
   "id": "4e1160de-845b-4823-97e6-23b21b0b098a",
   "metadata": {},
   "source": [
    "## 6.1 Fassen Sie die Ergebnisse kurz allgemein zusammen!"
   ]
  },
  {
   "cell_type": "code",
   "execution_count": null,
   "id": "6e2273af-2ff4-4fe9-b307-dd56d26e48db",
   "metadata": {},
   "outputs": [],
   "source": []
  },
  {
   "cell_type": "markdown",
   "id": "8cb8f102-db8a-4629-9a1d-49183bdbc2c5",
   "metadata": {},
   "source": [
    "## 6.2 Was leisten die gefundenen Modelle hinsichtlich der Untersuchung der gewählten Zielvariable?"
   ]
  },
  {
   "cell_type": "code",
   "execution_count": null,
   "id": "53936434-7805-4cf4-9504-af71ba11c322",
   "metadata": {},
   "outputs": [],
   "source": []
  },
  {
   "cell_type": "markdown",
   "id": "677079f3-8097-431b-a094-fecfff4e44b4",
   "metadata": {},
   "source": [
    "## 6.3 Vergleichen und bewerten Sie die verschiedenen genutzten Modellansätze!"
   ]
  },
  {
   "cell_type": "code",
   "execution_count": null,
   "id": "c07e4fb2-8626-49ed-99dd-b1bc98b581b8",
   "metadata": {},
   "outputs": [],
   "source": []
  },
  {
   "cell_type": "markdown",
   "id": "c7876a2d-dd1d-47c6-8e05-d5d8c6d93737",
   "metadata": {},
   "source": [
    "## 6.4 Bewerten Sie die Eigenschaften Ihrer Modelle hinsichtlich der Fähigkeit zur Generalisierung!"
   ]
  },
  {
   "cell_type": "code",
   "execution_count": null,
   "id": "65fb4d29-f4d3-4d22-b106-ffe88abbb6e3",
   "metadata": {},
   "outputs": [],
   "source": []
  },
  {
   "cell_type": "markdown",
   "id": "1dcd8223-e0a7-4f48-9020-b10058d1fb80",
   "metadata": {},
   "source": [
    "## 6.5 Gibt es weitere Schwachstellen, Fehlereinflüsse und mögliche Verbesserungsvorschläge für die Modellierung?"
   ]
  },
  {
   "cell_type": "code",
   "execution_count": null,
   "id": "63c69dff-f028-41e6-92df-3b85d11fa90d",
   "metadata": {},
   "outputs": [],
   "source": []
  }
 ],
 "metadata": {
  "kernelspec": {
   "display_name": "Python 3 (ipykernel)",
   "language": "python",
   "name": "python3"
  },
  "language_info": {
   "codemirror_mode": {
    "name": "ipython",
    "version": 3
   },
   "file_extension": ".py",
   "mimetype": "text/x-python",
   "name": "python",
   "nbconvert_exporter": "python",
   "pygments_lexer": "ipython3",
   "version": "3.12.8"
  }
 },
 "nbformat": 4,
 "nbformat_minor": 5
}
