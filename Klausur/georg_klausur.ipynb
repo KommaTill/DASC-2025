{
 "cells": [
  {
   "cell_type": "code",
   "execution_count": null,
   "id": "1dd08468-66b3-458a-abcd-97e3f4768299",
   "metadata": {},
   "outputs": [],
   "source": [
    "import pandas as pd\n",
    "import matplotlib.pyplot as plt\n",
    "import seaborn as sns\n",
    "import numpy as np\n",
    "import missingno\n",
    "#from sklearn.model_selection import train_test_split\n",
    "#from sklearn import decomposition\n",
    "#from sklearn import datasets\n",
    "#from sklearn.cluster import KMeans\n",
    "#from sklearn.preprocessing import MinMaxScaler\n",
    "#import statsmodels.api as sm"
   ]
  },
  {
   "cell_type": "markdown",
   "id": "2ffd74bc-f315-44a6-bbbc-73b1428df495",
   "metadata": {},
   "source": [
    "HAHA, das ist ein Test"
   ]
  }
 ],
 "metadata": {
  "kernelspec": {
   "display_name": "Python 3 (ipykernel)",
   "language": "python",
   "name": "python3"
  },
  "language_info": {
   "codemirror_mode": {
    "name": "ipython",
    "version": 3
   },
   "file_extension": ".py",
   "mimetype": "text/x-python",
   "name": "python",
   "nbconvert_exporter": "python",
   "pygments_lexer": "ipython3",
   "version": "3.12.8"
  }
 },
 "nbformat": 4,
 "nbformat_minor": 5
}
