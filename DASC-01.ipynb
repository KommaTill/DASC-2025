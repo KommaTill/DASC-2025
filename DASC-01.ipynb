{
  "cells": [
    {
      "cell_type": "code",
      "execution_count": 86,
      "metadata": {
        "trusted": true
      },
      "outputs": [],
      "source": [
        "import csv\n",
        "import pandas"
      ]
    },
    {
      "cell_type": "code",
      "execution_count": 87,
      "metadata": {
        "trusted": true
      },
      "outputs": [
        {
          "data": {
            "text/html": [
              "<div>\n",
              "<style scoped>\n",
              "    .dataframe tbody tr th:only-of-type {\n",
              "        vertical-align: middle;\n",
              "    }\n",
              "\n",
              "    .dataframe tbody tr th {\n",
              "        vertical-align: top;\n",
              "    }\n",
              "\n",
              "    .dataframe thead th {\n",
              "        text-align: right;\n",
              "    }\n",
              "</style>\n",
              "<table border=\"1\" class=\"dataframe\">\n",
              "  <thead>\n",
              "    <tr style=\"text-align: right;\">\n",
              "      <th></th>\n",
              "      <th>job_title</th>\n",
              "      <th>experience_level</th>\n",
              "      <th>employment_type</th>\n",
              "      <th>work_models</th>\n",
              "      <th>work_year</th>\n",
              "      <th>employee_residence</th>\n",
              "      <th>salary</th>\n",
              "      <th>salary_currency</th>\n",
              "      <th>salary_in_usd</th>\n",
              "      <th>company_location</th>\n",
              "      <th>company_size</th>\n",
              "    </tr>\n",
              "  </thead>\n",
              "  <tbody>\n",
              "    <tr>\n",
              "      <th>0</th>\n",
              "      <td>Data Engineer</td>\n",
              "      <td>Mid-level</td>\n",
              "      <td>Full-time</td>\n",
              "      <td>Remote</td>\n",
              "      <td>2024</td>\n",
              "      <td>United States</td>\n",
              "      <td>148100</td>\n",
              "      <td>USD</td>\n",
              "      <td>148100</td>\n",
              "      <td>United States</td>\n",
              "      <td>Medium</td>\n",
              "    </tr>\n",
              "    <tr>\n",
              "      <th>1</th>\n",
              "      <td>Data Engineer</td>\n",
              "      <td>Mid-level</td>\n",
              "      <td>Full-time</td>\n",
              "      <td>Remote</td>\n",
              "      <td>2024</td>\n",
              "      <td>United States</td>\n",
              "      <td>98700</td>\n",
              "      <td>USD</td>\n",
              "      <td>98700</td>\n",
              "      <td>United States</td>\n",
              "      <td>Medium</td>\n",
              "    </tr>\n",
              "    <tr>\n",
              "      <th>2</th>\n",
              "      <td>Data Scientist</td>\n",
              "      <td>Senior-level</td>\n",
              "      <td>Full-time</td>\n",
              "      <td>Remote</td>\n",
              "      <td>2024</td>\n",
              "      <td>United States</td>\n",
              "      <td>140032</td>\n",
              "      <td>USD</td>\n",
              "      <td>140032</td>\n",
              "      <td>United States</td>\n",
              "      <td>Medium</td>\n",
              "    </tr>\n",
              "    <tr>\n",
              "      <th>3</th>\n",
              "      <td>Data Scientist</td>\n",
              "      <td>Senior-level</td>\n",
              "      <td>Full-time</td>\n",
              "      <td>Remote</td>\n",
              "      <td>2024</td>\n",
              "      <td>United States</td>\n",
              "      <td>100022</td>\n",
              "      <td>USD</td>\n",
              "      <td>100022</td>\n",
              "      <td>United States</td>\n",
              "      <td>Medium</td>\n",
              "    </tr>\n",
              "    <tr>\n",
              "      <th>4</th>\n",
              "      <td>BI Developer</td>\n",
              "      <td>Mid-level</td>\n",
              "      <td>Full-time</td>\n",
              "      <td>On-site</td>\n",
              "      <td>2024</td>\n",
              "      <td>United States</td>\n",
              "      <td>120000</td>\n",
              "      <td>USD</td>\n",
              "      <td>120000</td>\n",
              "      <td>United States</td>\n",
              "      <td>Medium</td>\n",
              "    </tr>\n",
              "  </tbody>\n",
              "</table>\n",
              "</div>"
            ],
            "text/plain": [
              "        job_title experience_level employment_type work_models  work_year  \\\n",
              "0   Data Engineer        Mid-level       Full-time      Remote       2024   \n",
              "1   Data Engineer        Mid-level       Full-time      Remote       2024   \n",
              "2  Data Scientist     Senior-level       Full-time      Remote       2024   \n",
              "3  Data Scientist     Senior-level       Full-time      Remote       2024   \n",
              "4    BI Developer        Mid-level       Full-time     On-site       2024   \n",
              "\n",
              "  employee_residence  salary salary_currency  salary_in_usd company_location  \\\n",
              "0      United States  148100             USD         148100    United States   \n",
              "1      United States   98700             USD          98700    United States   \n",
              "2      United States  140032             USD         140032    United States   \n",
              "3      United States  100022             USD         100022    United States   \n",
              "4      United States  120000             USD         120000    United States   \n",
              "\n",
              "  company_size  \n",
              "0       Medium  \n",
              "1       Medium  \n",
              "2       Medium  \n",
              "3       Medium  \n",
              "4       Medium  "
            ]
          },
          "metadata": {},
          "output_type": "display_data"
        }
      ],
      "source": [
        "df = pandas.read_csv('data.csv')\n",
        "display(df.head())"
      ]
    },
    {
      "cell_type": "code",
      "execution_count": 88,
      "metadata": {
        "editable": true,
        "slideshow": {
          "slide_type": ""
        },
        "tags": [],
        "trusted": true
      },
      "outputs": [
        {
          "data": {
            "text/html": [
              "<div>\n",
              "<style scoped>\n",
              "    .dataframe tbody tr th:only-of-type {\n",
              "        vertical-align: middle;\n",
              "    }\n",
              "\n",
              "    .dataframe tbody tr th {\n",
              "        vertical-align: top;\n",
              "    }\n",
              "\n",
              "    .dataframe thead th {\n",
              "        text-align: right;\n",
              "    }\n",
              "</style>\n",
              "<table border=\"1\" class=\"dataframe\">\n",
              "  <thead>\n",
              "    <tr style=\"text-align: right;\">\n",
              "      <th></th>\n",
              "      <th>work_year</th>\n",
              "      <th>salary</th>\n",
              "      <th>salary_in_usd</th>\n",
              "    </tr>\n",
              "  </thead>\n",
              "  <tbody>\n",
              "    <tr>\n",
              "      <th>count</th>\n",
              "      <td>6599.000000</td>\n",
              "      <td>6.599000e+03</td>\n",
              "      <td>6599.000000</td>\n",
              "    </tr>\n",
              "    <tr>\n",
              "      <th>mean</th>\n",
              "      <td>2022.818457</td>\n",
              "      <td>1.792833e+05</td>\n",
              "      <td>145560.558569</td>\n",
              "    </tr>\n",
              "    <tr>\n",
              "      <th>std</th>\n",
              "      <td>0.674809</td>\n",
              "      <td>5.263722e+05</td>\n",
              "      <td>70946.838070</td>\n",
              "    </tr>\n",
              "    <tr>\n",
              "      <th>min</th>\n",
              "      <td>2020.000000</td>\n",
              "      <td>1.400000e+04</td>\n",
              "      <td>15000.000000</td>\n",
              "    </tr>\n",
              "    <tr>\n",
              "      <th>25%</th>\n",
              "      <td>2023.000000</td>\n",
              "      <td>9.600000e+04</td>\n",
              "      <td>95000.000000</td>\n",
              "    </tr>\n",
              "    <tr>\n",
              "      <th>50%</th>\n",
              "      <td>2023.000000</td>\n",
              "      <td>1.400000e+05</td>\n",
              "      <td>138666.000000</td>\n",
              "    </tr>\n",
              "    <tr>\n",
              "      <th>75%</th>\n",
              "      <td>2023.000000</td>\n",
              "      <td>1.875000e+05</td>\n",
              "      <td>185000.000000</td>\n",
              "    </tr>\n",
              "    <tr>\n",
              "      <th>max</th>\n",
              "      <td>2024.000000</td>\n",
              "      <td>3.040000e+07</td>\n",
              "      <td>750000.000000</td>\n",
              "    </tr>\n",
              "  </tbody>\n",
              "</table>\n",
              "</div>"
            ],
            "text/plain": [
              "         work_year        salary  salary_in_usd\n",
              "count  6599.000000  6.599000e+03    6599.000000\n",
              "mean   2022.818457  1.792833e+05  145560.558569\n",
              "std       0.674809  5.263722e+05   70946.838070\n",
              "min    2020.000000  1.400000e+04   15000.000000\n",
              "25%    2023.000000  9.600000e+04   95000.000000\n",
              "50%    2023.000000  1.400000e+05  138666.000000\n",
              "75%    2023.000000  1.875000e+05  185000.000000\n",
              "max    2024.000000  3.040000e+07  750000.000000"
            ]
          },
          "metadata": {},
          "output_type": "display_data"
        }
      ],
      "source": [
        "display(df.describe())"
      ]
    },
    {
      "cell_type": "code",
      "execution_count": 89,
      "metadata": {
        "trusted": true
      },
      "outputs": [
        {
          "name": "stdout",
          "output_type": "stream",
          "text": [
            "Die Daten enthalten 6599 Zeilen und 11 Spalten\n"
          ]
        }
      ],
      "source": [
        "print(\"Die Daten enthalten {} Zeilen und {} Spalten\".format(df.shape[0], df.shape[1]))"
      ]
    },
    {
      "cell_type": "code",
      "execution_count": 90,
      "metadata": {
        "trusted": true
      },
      "outputs": [
        {
          "data": {
            "text/plain": [
              "object    8\n",
              "int64     3\n",
              "Name: count, dtype: int64"
            ]
          },
          "metadata": {},
          "output_type": "display_data"
        }
      ],
      "source": [
        "display(df.dtypes.value_counts())"
      ]
    },
    {
      "cell_type": "code",
      "execution_count": 91,
      "metadata": {
        "trusted": true
      },
      "outputs": [],
      "source": [
        "num_vars = df.columns[df.dtypes != 'object']\n",
        "obj_vars = df.columns[df.dtypes == 'object']"
      ]
    },
    {
      "cell_type": "code",
      "execution_count": 92,
      "metadata": {
        "trusted": true
      },
      "outputs": [
        {
          "data": {
            "text/plain": [
              "work_year        0\n",
              "salary           0\n",
              "salary_in_usd    0\n",
              "dtype: int64"
            ]
          },
          "execution_count": 92,
          "metadata": {},
          "output_type": "execute_result"
        }
      ],
      "source": [
        "df[num_vars].isnull().sum()"
      ]
    },
    {
      "cell_type": "code",
      "execution_count": 93,
      "metadata": {
        "trusted": true
      },
      "outputs": [
        {
          "data": {
            "text/plain": [
              "job_title             0\n",
              "experience_level      0\n",
              "employment_type       0\n",
              "work_models           0\n",
              "employee_residence    0\n",
              "salary_currency       0\n",
              "company_location      0\n",
              "company_size          0\n",
              "dtype: int64"
            ]
          },
          "execution_count": 93,
          "metadata": {},
          "output_type": "execute_result"
        }
      ],
      "source": [
        "df[obj_vars].isnull().sum()"
      ]
    },
    {
      "cell_type": "code",
      "execution_count": 94,
      "metadata": {},
      "outputs": [],
      "source": [
        "def median_new(t):\n",
        "    new = t['salary_in_usd'].median()\n",
        "    return round(new, 0)\n",
        "def mean_new(t):\n",
        "    new = t['salary_in_usd'].mean()\n",
        "    return round(new, 0)"
      ]
    },
    {
      "cell_type": "code",
      "execution_count": 95,
      "metadata": {},
      "outputs": [],
      "source": [
        "df_el = df[df['experience_level'] == \"Entry-level\"]\n",
        "df_ml = df[df['experience_level'] == \"Mid-level\"]\n",
        "df_sl = df[df['experience_level'] == \"Senior-level\"]\n",
        "df_exl = df[df['experience_level'] == \"Executive-level\"]"
      ]
    },
    {
      "cell_type": "code",
      "execution_count": 96,
      "metadata": {},
      "outputs": [
        {
          "data": {
            "text/html": [
              "<div>\n",
              "<style scoped>\n",
              "    .dataframe tbody tr th:only-of-type {\n",
              "        vertical-align: middle;\n",
              "    }\n",
              "\n",
              "    .dataframe tbody tr th {\n",
              "        vertical-align: top;\n",
              "    }\n",
              "\n",
              "    .dataframe thead th {\n",
              "        text-align: right;\n",
              "    }\n",
              "</style>\n",
              "<table border=\"1\" class=\"dataframe\">\n",
              "  <thead>\n",
              "    <tr style=\"text-align: right;\">\n",
              "      <th></th>\n",
              "      <th>Median</th>\n",
              "      <th>Mittelwert</th>\n",
              "    </tr>\n",
              "  </thead>\n",
              "  <tbody>\n",
              "    <tr>\n",
              "      <th>Gesamt</th>\n",
              "      <td>138666.0</td>\n",
              "      <td>145561.0</td>\n",
              "    </tr>\n",
              "    <tr>\n",
              "      <th>Entry-Level</th>\n",
              "      <td>75000.0</td>\n",
              "      <td>84449.0</td>\n",
              "    </tr>\n",
              "    <tr>\n",
              "      <th>Mid-Level</th>\n",
              "      <td>106500.0</td>\n",
              "      <td>119020.0</td>\n",
              "    </tr>\n",
              "    <tr>\n",
              "      <th>Senior-Level</th>\n",
              "      <td>153600.0</td>\n",
              "      <td>162071.0</td>\n",
              "    </tr>\n",
              "    <tr>\n",
              "      <th>Executive-Level</th>\n",
              "      <td>184560.0</td>\n",
              "      <td>189687.0</td>\n",
              "    </tr>\n",
              "  </tbody>\n",
              "</table>\n",
              "</div>"
            ],
            "text/plain": [
              "                   Median  Mittelwert\n",
              "Gesamt           138666.0    145561.0\n",
              "Entry-Level       75000.0     84449.0\n",
              "Mid-Level        106500.0    119020.0\n",
              "Senior-Level     153600.0    162071.0\n",
              "Executive-Level  184560.0    189687.0"
            ]
          },
          "metadata": {},
          "output_type": "display_data"
        }
      ],
      "source": [
        "dfn = pandas.DataFrame(\n",
        "    {'Median': [median_new(df), median_new(df_el), median_new(df_ml), median_new(df_sl), median_new(df_exl)],\n",
        "     'Mittelwert': [mean_new(df), mean_new(df_el), mean_new(df_ml), mean_new(df_sl), mean_new(df_exl)]},\n",
        "     index=['Gesamt','Entry-Level', 'Mid-Level', 'Senior-Level', 'Executive-Level'])\n",
        "display(dfn)"
      ]
    }
  ],
  "metadata": {
    "kernelspec": {
      "display_name": "Python 3",
      "language": "python",
      "name": "python3"
    },
    "language_info": {
      "codemirror_mode": {
        "name": "ipython",
        "version": 3
      },
      "file_extension": ".py",
      "mimetype": "text/x-python",
      "name": "python",
      "nbconvert_exporter": "python",
      "pygments_lexer": "ipython3",
      "version": "3.11.5"
    }
  },
  "nbformat": 4,
  "nbformat_minor": 4
}
