{
  "metadata": {
    "kernelspec": {
      "name": "python",
      "display_name": "Python (Pyodide)",
      "language": "python"
    },
    "language_info": {
      "codemirror_mode": {
        "name": "python",
        "version": 3
      },
      "file_extension": ".py",
      "mimetype": "text/x-python",
      "name": "python",
      "nbconvert_exporter": "python",
      "pygments_lexer": "ipython3",
      "version": "3.8"
    }
  },
  "nbformat_minor": 4,
  "nbformat": 4,
  "cells": [
    {
      "cell_type": "code",
      "source": "import csv\nimport pandas",
      "metadata": {
        "trusted": true
      },
      "outputs": [],
      "execution_count": 8
    },
    {
      "cell_type": "code",
      "source": "df = pandas.read_csv('data.csv')\ndisplay(df.head())",
      "metadata": {
        "trusted": true
      },
      "outputs": [
        {
          "output_type": "display_data",
          "data": {
            "text/plain": "        job_title experience_level employment_type work_models  work_year  \\\n0   Data Engineer        Mid-level       Full-time      Remote       2024   \n1   Data Engineer        Mid-level       Full-time      Remote       2024   \n2  Data Scientist     Senior-level       Full-time      Remote       2024   \n3  Data Scientist     Senior-level       Full-time      Remote       2024   \n4    BI Developer        Mid-level       Full-time     On-site       2024   \n\n  employee_residence  salary salary_currency  salary_in_usd company_location  \\\n0      United States  148100             USD         148100    United States   \n1      United States   98700             USD          98700    United States   \n2      United States  140032             USD         140032    United States   \n3      United States  100022             USD         100022    United States   \n4      United States  120000             USD         120000    United States   \n\n  company_size  \n0       Medium  \n1       Medium  \n2       Medium  \n3       Medium  \n4       Medium  ",
            "text/html": "<div>\n<style scoped>\n    .dataframe tbody tr th:only-of-type {\n        vertical-align: middle;\n    }\n\n    .dataframe tbody tr th {\n        vertical-align: top;\n    }\n\n    .dataframe thead th {\n        text-align: right;\n    }\n</style>\n<table border=\"1\" class=\"dataframe\">\n  <thead>\n    <tr style=\"text-align: right;\">\n      <th></th>\n      <th>job_title</th>\n      <th>experience_level</th>\n      <th>employment_type</th>\n      <th>work_models</th>\n      <th>work_year</th>\n      <th>employee_residence</th>\n      <th>salary</th>\n      <th>salary_currency</th>\n      <th>salary_in_usd</th>\n      <th>company_location</th>\n      <th>company_size</th>\n    </tr>\n  </thead>\n  <tbody>\n    <tr>\n      <th>0</th>\n      <td>Data Engineer</td>\n      <td>Mid-level</td>\n      <td>Full-time</td>\n      <td>Remote</td>\n      <td>2024</td>\n      <td>United States</td>\n      <td>148100</td>\n      <td>USD</td>\n      <td>148100</td>\n      <td>United States</td>\n      <td>Medium</td>\n    </tr>\n    <tr>\n      <th>1</th>\n      <td>Data Engineer</td>\n      <td>Mid-level</td>\n      <td>Full-time</td>\n      <td>Remote</td>\n      <td>2024</td>\n      <td>United States</td>\n      <td>98700</td>\n      <td>USD</td>\n      <td>98700</td>\n      <td>United States</td>\n      <td>Medium</td>\n    </tr>\n    <tr>\n      <th>2</th>\n      <td>Data Scientist</td>\n      <td>Senior-level</td>\n      <td>Full-time</td>\n      <td>Remote</td>\n      <td>2024</td>\n      <td>United States</td>\n      <td>140032</td>\n      <td>USD</td>\n      <td>140032</td>\n      <td>United States</td>\n      <td>Medium</td>\n    </tr>\n    <tr>\n      <th>3</th>\n      <td>Data Scientist</td>\n      <td>Senior-level</td>\n      <td>Full-time</td>\n      <td>Remote</td>\n      <td>2024</td>\n      <td>United States</td>\n      <td>100022</td>\n      <td>USD</td>\n      <td>100022</td>\n      <td>United States</td>\n      <td>Medium</td>\n    </tr>\n    <tr>\n      <th>4</th>\n      <td>BI Developer</td>\n      <td>Mid-level</td>\n      <td>Full-time</td>\n      <td>On-site</td>\n      <td>2024</td>\n      <td>United States</td>\n      <td>120000</td>\n      <td>USD</td>\n      <td>120000</td>\n      <td>United States</td>\n      <td>Medium</td>\n    </tr>\n  </tbody>\n</table>\n</div>"
          },
          "metadata": {}
        }
      ],
      "execution_count": 12
    },
    {
      "cell_type": "code",
      "source": "display(df.describe())",
      "metadata": {
        "trusted": true,
        "tags": [],
        "editable": true,
        "slideshow": {
          "slide_type": ""
        }
      },
      "outputs": [
        {
          "output_type": "display_data",
          "data": {
            "text/plain": "         work_year        salary  salary_in_usd\ncount  6599.000000  6.599000e+03    6599.000000\nmean   2022.818457  1.792833e+05  145560.558569\nstd       0.674809  5.263722e+05   70946.838070\nmin    2020.000000  1.400000e+04   15000.000000\n25%    2023.000000  9.600000e+04   95000.000000\n50%    2023.000000  1.400000e+05  138666.000000\n75%    2023.000000  1.875000e+05  185000.000000\nmax    2024.000000  3.040000e+07  750000.000000",
            "text/html": "<div>\n<style scoped>\n    .dataframe tbody tr th:only-of-type {\n        vertical-align: middle;\n    }\n\n    .dataframe tbody tr th {\n        vertical-align: top;\n    }\n\n    .dataframe thead th {\n        text-align: right;\n    }\n</style>\n<table border=\"1\" class=\"dataframe\">\n  <thead>\n    <tr style=\"text-align: right;\">\n      <th></th>\n      <th>work_year</th>\n      <th>salary</th>\n      <th>salary_in_usd</th>\n    </tr>\n  </thead>\n  <tbody>\n    <tr>\n      <th>count</th>\n      <td>6599.000000</td>\n      <td>6.599000e+03</td>\n      <td>6599.000000</td>\n    </tr>\n    <tr>\n      <th>mean</th>\n      <td>2022.818457</td>\n      <td>1.792833e+05</td>\n      <td>145560.558569</td>\n    </tr>\n    <tr>\n      <th>std</th>\n      <td>0.674809</td>\n      <td>5.263722e+05</td>\n      <td>70946.838070</td>\n    </tr>\n    <tr>\n      <th>min</th>\n      <td>2020.000000</td>\n      <td>1.400000e+04</td>\n      <td>15000.000000</td>\n    </tr>\n    <tr>\n      <th>25%</th>\n      <td>2023.000000</td>\n      <td>9.600000e+04</td>\n      <td>95000.000000</td>\n    </tr>\n    <tr>\n      <th>50%</th>\n      <td>2023.000000</td>\n      <td>1.400000e+05</td>\n      <td>138666.000000</td>\n    </tr>\n    <tr>\n      <th>75%</th>\n      <td>2023.000000</td>\n      <td>1.875000e+05</td>\n      <td>185000.000000</td>\n    </tr>\n    <tr>\n      <th>max</th>\n      <td>2024.000000</td>\n      <td>3.040000e+07</td>\n      <td>750000.000000</td>\n    </tr>\n  </tbody>\n</table>\n</div>"
          },
          "metadata": {}
        }
      ],
      "execution_count": 13
    },
    {
      "cell_type": "code",
      "source": "print(\"Die Daten enthalten {} Zeilen und {} Spalten\".format(df.shape[0], df.shape[1]))",
      "metadata": {
        "trusted": true
      },
      "outputs": [
        {
          "name": "stdout",
          "text": "Die Daten enthalten 6599 Zeilen und 11 Spalten\n",
          "output_type": "stream"
        }
      ],
      "execution_count": 15
    },
    {
      "cell_type": "code",
      "source": "display(df)",
      "metadata": {
        "trusted": true
      },
      "outputs": [
        {
          "output_type": "display_data",
          "data": {
            "text/plain": "                     job_title experience_level employment_type work_models  \\\n0                Data Engineer        Mid-level       Full-time      Remote   \n1                Data Engineer        Mid-level       Full-time      Remote   \n2               Data Scientist     Senior-level       Full-time      Remote   \n3               Data Scientist     Senior-level       Full-time      Remote   \n4                 BI Developer        Mid-level       Full-time     On-site   \n...                        ...              ...             ...         ...   \n6594        Staff Data Analyst      Entry-level        Contract      Hybrid   \n6595        Staff Data Analyst  Executive-level       Full-time     On-site   \n6596  Machine Learning Manager     Senior-level       Full-time      Hybrid   \n6597             Data Engineer        Mid-level       Full-time      Hybrid   \n6598            Data Scientist     Senior-level       Full-time     On-site   \n\n      work_year employee_residence  salary salary_currency  salary_in_usd  \\\n0          2024      United States  148100             USD         148100   \n1          2024      United States   98700             USD          98700   \n2          2024      United States  140032             USD         140032   \n3          2024      United States  100022             USD         100022   \n4          2024      United States  120000             USD         120000   \n...         ...                ...     ...             ...            ...   \n6594       2020             Canada   60000             CAD          44753   \n6595       2020            Nigeria   15000             USD          15000   \n6596       2020             Canada  157000             CAD         117104   \n6597       2020            Austria   65000             EUR          74130   \n6598       2020            Austria   80000             EUR          91237   \n\n     company_location company_size  \n0       United States       Medium  \n1       United States       Medium  \n2       United States       Medium  \n3       United States       Medium  \n4       United States       Medium  \n...               ...          ...  \n6594           Canada        Large  \n6595           Canada       Medium  \n6596           Canada        Large  \n6597          Austria        Large  \n6598          Austria        Small  \n\n[6599 rows x 11 columns]",
            "text/html": "<div>\n<style scoped>\n    .dataframe tbody tr th:only-of-type {\n        vertical-align: middle;\n    }\n\n    .dataframe tbody tr th {\n        vertical-align: top;\n    }\n\n    .dataframe thead th {\n        text-align: right;\n    }\n</style>\n<table border=\"1\" class=\"dataframe\">\n  <thead>\n    <tr style=\"text-align: right;\">\n      <th></th>\n      <th>job_title</th>\n      <th>experience_level</th>\n      <th>employment_type</th>\n      <th>work_models</th>\n      <th>work_year</th>\n      <th>employee_residence</th>\n      <th>salary</th>\n      <th>salary_currency</th>\n      <th>salary_in_usd</th>\n      <th>company_location</th>\n      <th>company_size</th>\n    </tr>\n  </thead>\n  <tbody>\n    <tr>\n      <th>0</th>\n      <td>Data Engineer</td>\n      <td>Mid-level</td>\n      <td>Full-time</td>\n      <td>Remote</td>\n      <td>2024</td>\n      <td>United States</td>\n      <td>148100</td>\n      <td>USD</td>\n      <td>148100</td>\n      <td>United States</td>\n      <td>Medium</td>\n    </tr>\n    <tr>\n      <th>1</th>\n      <td>Data Engineer</td>\n      <td>Mid-level</td>\n      <td>Full-time</td>\n      <td>Remote</td>\n      <td>2024</td>\n      <td>United States</td>\n      <td>98700</td>\n      <td>USD</td>\n      <td>98700</td>\n      <td>United States</td>\n      <td>Medium</td>\n    </tr>\n    <tr>\n      <th>2</th>\n      <td>Data Scientist</td>\n      <td>Senior-level</td>\n      <td>Full-time</td>\n      <td>Remote</td>\n      <td>2024</td>\n      <td>United States</td>\n      <td>140032</td>\n      <td>USD</td>\n      <td>140032</td>\n      <td>United States</td>\n      <td>Medium</td>\n    </tr>\n    <tr>\n      <th>3</th>\n      <td>Data Scientist</td>\n      <td>Senior-level</td>\n      <td>Full-time</td>\n      <td>Remote</td>\n      <td>2024</td>\n      <td>United States</td>\n      <td>100022</td>\n      <td>USD</td>\n      <td>100022</td>\n      <td>United States</td>\n      <td>Medium</td>\n    </tr>\n    <tr>\n      <th>4</th>\n      <td>BI Developer</td>\n      <td>Mid-level</td>\n      <td>Full-time</td>\n      <td>On-site</td>\n      <td>2024</td>\n      <td>United States</td>\n      <td>120000</td>\n      <td>USD</td>\n      <td>120000</td>\n      <td>United States</td>\n      <td>Medium</td>\n    </tr>\n    <tr>\n      <th>...</th>\n      <td>...</td>\n      <td>...</td>\n      <td>...</td>\n      <td>...</td>\n      <td>...</td>\n      <td>...</td>\n      <td>...</td>\n      <td>...</td>\n      <td>...</td>\n      <td>...</td>\n      <td>...</td>\n    </tr>\n    <tr>\n      <th>6594</th>\n      <td>Staff Data Analyst</td>\n      <td>Entry-level</td>\n      <td>Contract</td>\n      <td>Hybrid</td>\n      <td>2020</td>\n      <td>Canada</td>\n      <td>60000</td>\n      <td>CAD</td>\n      <td>44753</td>\n      <td>Canada</td>\n      <td>Large</td>\n    </tr>\n    <tr>\n      <th>6595</th>\n      <td>Staff Data Analyst</td>\n      <td>Executive-level</td>\n      <td>Full-time</td>\n      <td>On-site</td>\n      <td>2020</td>\n      <td>Nigeria</td>\n      <td>15000</td>\n      <td>USD</td>\n      <td>15000</td>\n      <td>Canada</td>\n      <td>Medium</td>\n    </tr>\n    <tr>\n      <th>6596</th>\n      <td>Machine Learning Manager</td>\n      <td>Senior-level</td>\n      <td>Full-time</td>\n      <td>Hybrid</td>\n      <td>2020</td>\n      <td>Canada</td>\n      <td>157000</td>\n      <td>CAD</td>\n      <td>117104</td>\n      <td>Canada</td>\n      <td>Large</td>\n    </tr>\n    <tr>\n      <th>6597</th>\n      <td>Data Engineer</td>\n      <td>Mid-level</td>\n      <td>Full-time</td>\n      <td>Hybrid</td>\n      <td>2020</td>\n      <td>Austria</td>\n      <td>65000</td>\n      <td>EUR</td>\n      <td>74130</td>\n      <td>Austria</td>\n      <td>Large</td>\n    </tr>\n    <tr>\n      <th>6598</th>\n      <td>Data Scientist</td>\n      <td>Senior-level</td>\n      <td>Full-time</td>\n      <td>On-site</td>\n      <td>2020</td>\n      <td>Austria</td>\n      <td>80000</td>\n      <td>EUR</td>\n      <td>91237</td>\n      <td>Austria</td>\n      <td>Small</td>\n    </tr>\n  </tbody>\n</table>\n<p>6599 rows × 11 columns</p>\n</div>"
          },
          "metadata": {}
        }
      ],
      "execution_count": 16
    },
    {
      "cell_type": "code",
      "source": " display(df.dtypes.value_counts())",
      "metadata": {
        "trusted": true
      },
      "outputs": [
        {
          "output_type": "display_data",
          "data": {
            "text/plain": "object    8\nint64     3\nName: count, dtype: int64"
          },
          "metadata": {}
        }
      ],
      "execution_count": 17
    },
    {
      "cell_type": "code",
      "source": "num_vars = df.columns[df.dtypes != 'object']\nobj_vars = df.columns[df.dtypes == 'object']",
      "metadata": {
        "trusted": true
      },
      "outputs": [],
      "execution_count": 18
    },
    {
      "cell_type": "code",
      "source": "df[num_vars].isnull().sum()",
      "metadata": {
        "trusted": true
      },
      "outputs": [
        {
          "execution_count": 24,
          "output_type": "execute_result",
          "data": {
            "text/plain": "work_year        0\nsalary           0\nsalary_in_usd    0\ndtype: int64"
          },
          "metadata": {}
        }
      ],
      "execution_count": 24
    },
    {
      "cell_type": "code",
      "source": "df[obj_vars].isnull().sum()",
      "metadata": {
        "trusted": true
      },
      "outputs": [
        {
          "execution_count": 25,
          "output_type": "execute_result",
          "data": {
            "text/plain": "job_title             0\nexperience_level      0\nemployment_type       0\nwork_models           0\nemployee_residence    0\nsalary_currency       0\ncompany_location      0\ncompany_size          0\ndtype: int64"
          },
          "metadata": {}
        }
      ],
      "execution_count": 25
    },
    {
      "cell_type": "code",
      "source": "print(\"Für den gesamten Datensatz\")\nprint(\"Der Mittelwert ist: {}\".format(df['salary_in_usd'].mean()))\nmid = df.shape[0] / 2\nmid = round(mid, 0)\nprint (\"Der Median ist: {}\".format(df.at[mid, 'salary_in_usd']))",
      "metadata": {
        "trusted": true
      },
      "outputs": [
        {
          "name": "stdout",
          "text": "Für den gesamten Datensatz\nDer Mittelwert ist: 145560.55856948023\nDer Median ist: 249600\n",
          "output_type": "stream"
        }
      ],
      "execution_count": 48
    },
    {
      "cell_type": "code",
      "source": "",
      "metadata": {
        "trusted": true,
        "tags": [],
        "editable": true,
        "slideshow": {
          "slide_type": ""
        }
      },
      "outputs": [],
      "execution_count": null
    }
  ]
}