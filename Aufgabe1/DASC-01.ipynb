{
  "cells": [
    {
      "cell_type": "markdown",
      "metadata": {},
      "source": [
        "## Aufgaben der ersten Vorlesung"
      ]
    },
    {
      "cell_type": "markdown",
      "metadata": {},
      "source": [
        "**Aufgabe 1**\n",
        "\n",
        "- https://aijobs.net\n",
        "- Die Datenquelle zeigt verschiedene Stellenausschreibungen in den Bereichen AI, Machine Learning, Data Analytics, etc.\n",
        "- Firmen können ihre Ausschreibungen hier veröffentlichen und verlinken ihre eigene Webseite/Kontaktmöglichkeiten\n",
        "- Die Webseite wird in der Schweiz gehostet und muss sich daher an strikte Datenschutzvorgaben halten, zusätzlich ist die Webseite sehr transparent mit  allen Prozessen\n",
        "-> Die Daten wirken sehr verlässlich!"
      ]
    },
    {
      "cell_type": "markdown",
      "metadata": {},
      "source": [
        "**Aufgabe 2**"
      ]
    },
    {
      "cell_type": "code",
      "execution_count": 97,
      "metadata": {
        "trusted": true
      },
      "outputs": [],
      "source": [
        "import csv\n",
        "import pandas as pd"
      ]
    },
    {
      "cell_type": "code",
      "execution_count": 105,
      "metadata": {
        "trusted": true
      },
      "outputs": [
        {
          "name": "stdout",
          "output_type": "stream",
          "text": [
            "Die ersten fünf Zeilen des Datensatzes\n"
          ]
        },
        {
          "data": {
            "text/html": [
              "<div>\n",
              "<style scoped>\n",
              "    .dataframe tbody tr th:only-of-type {\n",
              "        vertical-align: middle;\n",
              "    }\n",
              "\n",
              "    .dataframe tbody tr th {\n",
              "        vertical-align: top;\n",
              "    }\n",
              "\n",
              "    .dataframe thead th {\n",
              "        text-align: right;\n",
              "    }\n",
              "</style>\n",
              "<table border=\"1\" class=\"dataframe\">\n",
              "  <thead>\n",
              "    <tr style=\"text-align: right;\">\n",
              "      <th></th>\n",
              "      <th>job_title</th>\n",
              "      <th>experience_level</th>\n",
              "      <th>employment_type</th>\n",
              "      <th>work_models</th>\n",
              "      <th>work_year</th>\n",
              "      <th>employee_residence</th>\n",
              "      <th>salary</th>\n",
              "      <th>salary_currency</th>\n",
              "      <th>salary_in_usd</th>\n",
              "      <th>company_location</th>\n",
              "      <th>company_size</th>\n",
              "    </tr>\n",
              "  </thead>\n",
              "  <tbody>\n",
              "    <tr>\n",
              "      <th>0</th>\n",
              "      <td>Data Engineer</td>\n",
              "      <td>Mid-level</td>\n",
              "      <td>Full-time</td>\n",
              "      <td>Remote</td>\n",
              "      <td>2024</td>\n",
              "      <td>United States</td>\n",
              "      <td>148100</td>\n",
              "      <td>USD</td>\n",
              "      <td>148100</td>\n",
              "      <td>United States</td>\n",
              "      <td>Medium</td>\n",
              "    </tr>\n",
              "    <tr>\n",
              "      <th>1</th>\n",
              "      <td>Data Engineer</td>\n",
              "      <td>Mid-level</td>\n",
              "      <td>Full-time</td>\n",
              "      <td>Remote</td>\n",
              "      <td>2024</td>\n",
              "      <td>United States</td>\n",
              "      <td>98700</td>\n",
              "      <td>USD</td>\n",
              "      <td>98700</td>\n",
              "      <td>United States</td>\n",
              "      <td>Medium</td>\n",
              "    </tr>\n",
              "    <tr>\n",
              "      <th>2</th>\n",
              "      <td>Data Scientist</td>\n",
              "      <td>Senior-level</td>\n",
              "      <td>Full-time</td>\n",
              "      <td>Remote</td>\n",
              "      <td>2024</td>\n",
              "      <td>United States</td>\n",
              "      <td>140032</td>\n",
              "      <td>USD</td>\n",
              "      <td>140032</td>\n",
              "      <td>United States</td>\n",
              "      <td>Medium</td>\n",
              "    </tr>\n",
              "    <tr>\n",
              "      <th>3</th>\n",
              "      <td>Data Scientist</td>\n",
              "      <td>Senior-level</td>\n",
              "      <td>Full-time</td>\n",
              "      <td>Remote</td>\n",
              "      <td>2024</td>\n",
              "      <td>United States</td>\n",
              "      <td>100022</td>\n",
              "      <td>USD</td>\n",
              "      <td>100022</td>\n",
              "      <td>United States</td>\n",
              "      <td>Medium</td>\n",
              "    </tr>\n",
              "    <tr>\n",
              "      <th>4</th>\n",
              "      <td>BI Developer</td>\n",
              "      <td>Mid-level</td>\n",
              "      <td>Full-time</td>\n",
              "      <td>On-site</td>\n",
              "      <td>2024</td>\n",
              "      <td>United States</td>\n",
              "      <td>120000</td>\n",
              "      <td>USD</td>\n",
              "      <td>120000</td>\n",
              "      <td>United States</td>\n",
              "      <td>Medium</td>\n",
              "    </tr>\n",
              "  </tbody>\n",
              "</table>\n",
              "</div>"
            ],
            "text/plain": [
              "        job_title experience_level employment_type work_models  work_year  \\\n",
              "0   Data Engineer        Mid-level       Full-time      Remote       2024   \n",
              "1   Data Engineer        Mid-level       Full-time      Remote       2024   \n",
              "2  Data Scientist     Senior-level       Full-time      Remote       2024   \n",
              "3  Data Scientist     Senior-level       Full-time      Remote       2024   \n",
              "4    BI Developer        Mid-level       Full-time     On-site       2024   \n",
              "\n",
              "  employee_residence  salary salary_currency  salary_in_usd company_location  \\\n",
              "0      United States  148100             USD         148100    United States   \n",
              "1      United States   98700             USD          98700    United States   \n",
              "2      United States  140032             USD         140032    United States   \n",
              "3      United States  100022             USD         100022    United States   \n",
              "4      United States  120000             USD         120000    United States   \n",
              "\n",
              "  company_size  \n",
              "0       Medium  \n",
              "1       Medium  \n",
              "2       Medium  \n",
              "3       Medium  \n",
              "4       Medium  "
            ]
          },
          "metadata": {},
          "output_type": "display_data"
        }
      ],
      "source": [
        "print(\"Die ersten fünf Zeilen des Datensatzes\")\n",
        "df = pd.read_csv('data.csv')\n",
        "display(df.head())"
      ]
    },
    {
      "cell_type": "code",
      "execution_count": 89,
      "metadata": {
        "trusted": true
      },
      "outputs": [
        {
          "name": "stdout",
          "output_type": "stream",
          "text": [
            "Die Daten enthalten 6599 Zeilen und 11 Spalten\n"
          ]
        }
      ],
      "source": [
        "print(\"Die Daten enthalten {} Zeilen und {} Spalten\".format(df.shape[0], df.shape[1]))"
      ]
    },
    {
      "cell_type": "code",
      "execution_count": 103,
      "metadata": {
        "trusted": true
      },
      "outputs": [
        {
          "name": "stdout",
          "output_type": "stream",
          "text": [
            "Fehlende Daten:\n"
          ]
        },
        {
          "data": {
            "text/plain": [
              "job_title             0\n",
              "experience_level      0\n",
              "employment_type       0\n",
              "work_models           0\n",
              "work_year             0\n",
              "employee_residence    0\n",
              "salary                0\n",
              "salary_currency       0\n",
              "salary_in_usd         0\n",
              "company_location      0\n",
              "company_size          0\n",
              "dtype: int64"
            ]
          },
          "execution_count": 103,
          "metadata": {},
          "output_type": "execute_result"
        }
      ],
      "source": [
        "vars= df.columns\n",
        "print(\"Fehlende Daten:\")\n",
        "df[vars].isnull().sum()"
      ]
    },
    {
      "cell_type": "markdown",
      "metadata": {},
      "source": [
        "**Aufgabe 3**"
      ]
    },
    {
      "cell_type": "code",
      "execution_count": 104,
      "metadata": {},
      "outputs": [
        {
          "data": {
            "text/html": [
              "<div>\n",
              "<style scoped>\n",
              "    .dataframe tbody tr th:only-of-type {\n",
              "        vertical-align: middle;\n",
              "    }\n",
              "\n",
              "    .dataframe tbody tr th {\n",
              "        vertical-align: top;\n",
              "    }\n",
              "\n",
              "    .dataframe thead th {\n",
              "        text-align: right;\n",
              "    }\n",
              "</style>\n",
              "<table border=\"1\" class=\"dataframe\">\n",
              "  <thead>\n",
              "    <tr style=\"text-align: right;\">\n",
              "      <th></th>\n",
              "      <th>Median</th>\n",
              "      <th>Mittelwert</th>\n",
              "    </tr>\n",
              "  </thead>\n",
              "  <tbody>\n",
              "    <tr>\n",
              "      <th>Gesamt</th>\n",
              "      <td>138666.0</td>\n",
              "      <td>145561.0</td>\n",
              "    </tr>\n",
              "    <tr>\n",
              "      <th>Entry-Level</th>\n",
              "      <td>75000.0</td>\n",
              "      <td>84449.0</td>\n",
              "    </tr>\n",
              "    <tr>\n",
              "      <th>Mid-Level</th>\n",
              "      <td>106500.0</td>\n",
              "      <td>119020.0</td>\n",
              "    </tr>\n",
              "    <tr>\n",
              "      <th>Senior-Level</th>\n",
              "      <td>153600.0</td>\n",
              "      <td>162071.0</td>\n",
              "    </tr>\n",
              "    <tr>\n",
              "      <th>Executive-Level</th>\n",
              "      <td>184560.0</td>\n",
              "      <td>189687.0</td>\n",
              "    </tr>\n",
              "  </tbody>\n",
              "</table>\n",
              "</div>"
            ],
            "text/plain": [
              "                   Median  Mittelwert\n",
              "Gesamt           138666.0    145561.0\n",
              "Entry-Level       75000.0     84449.0\n",
              "Mid-Level        106500.0    119020.0\n",
              "Senior-Level     153600.0    162071.0\n",
              "Executive-Level  184560.0    189687.0"
            ]
          },
          "metadata": {},
          "output_type": "display_data"
        }
      ],
      "source": [
        "def median_new(t):\n",
        "    new = t['salary_in_usd'].median()\n",
        "    return round(new, 0)\n",
        "def mean_new(t):\n",
        "    new = t['salary_in_usd'].mean()\n",
        "    return round(new, 0)\n",
        "\n",
        "df_el = df[df['experience_level'] == \"Entry-level\"]\n",
        "df_ml = df[df['experience_level'] == \"Mid-level\"]\n",
        "df_sl = df[df['experience_level'] == \"Senior-level\"]\n",
        "df_exl = df[df['experience_level'] == \"Executive-level\"]\n",
        "\n",
        "dfn = pd.DataFrame(\n",
        "    {'Median': [median_new(df), median_new(df_el), median_new(df_ml), median_new(df_sl), median_new(df_exl)],\n",
        "     'Mittelwert': [mean_new(df), mean_new(df_el), mean_new(df_ml), mean_new(df_sl), mean_new(df_exl)]},\n",
        "     index=['Gesamt','Entry-Level', 'Mid-Level', 'Senior-Level', 'Executive-Level'])\n",
        "display(dfn)"
      ]
    }
  ],
  "metadata": {
    "kernelspec": {
      "display_name": "Python 3",
      "language": "python",
      "name": "python3"
    },
    "language_info": {
      "codemirror_mode": {
        "name": "ipython",
        "version": 3
      },
      "file_extension": ".py",
      "mimetype": "text/x-python",
      "name": "python",
      "nbconvert_exporter": "python",
      "pygments_lexer": "ipython3",
      "version": "3.11.5"
    }
  },
  "nbformat": 4,
  "nbformat_minor": 4
}
